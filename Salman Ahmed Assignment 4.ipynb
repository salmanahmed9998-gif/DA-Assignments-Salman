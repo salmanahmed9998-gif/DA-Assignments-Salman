{
 "cells": [
  {
   "cell_type": "markdown",
   "id": "f50c28f8-19de-40ce-b6fe-360f1542676f",
   "metadata": {},
   "source": [
    "1-\n",
    "\n",
    "text = 'hello python world'\n",
    "\n",
    "Replace spaces with underscores in the string (e.g., \"hello python world\" → \"hello_python_world\").\n",
    "\n",
    "Split the modified string (e.g., \"hello_python_world\" → ['hello', 'python', 'world']).\n",
    "\n",
    "Print all two results\n",
    "\n",
    "Hint: Use string methods"
   ]
  },
  {
   "cell_type": "code",
   "execution_count": 4,
   "id": "74a2d78f-cf69-4d41-8666-06be5f9fcdbe",
   "metadata": {},
   "outputs": [
    {
     "name": "stdout",
     "output_type": "stream",
     "text": [
      "hello_python_world\n",
      "['hello', 'python', 'world']\n"
     ]
    }
   ],
   "source": [
    "txt=\"hello python world\"\n",
    "a=txt.replace(\" \",\"_\")\n",
    "print(a)\n",
    "b=txt.split()\n",
    "print(b)\n"
   ]
  },
  {
   "cell_type": "markdown",
   "id": "f36c5e03-9efc-40f9-833c-23864268173e",
   "metadata": {},
   "source": [
    "2- You have a product code that follows the format \"SKU-12345-XYZ\".\n",
    "\n",
    "Find the first position of the dash (-).\n",
    "\n",
    "Count the number of dashes (-) in the product code.\n",
    "\n",
    "Remove the \"SKU-\" prefix and \"-XYZ\" suffix from the product code, Extract the numeric part 12345\n",
    "\n",
    "product_code = \"SKU-12345-XYZ\"\n",
    "\n",
    "Hint: Use String Methods"
   ]
  },
  {
   "cell_type": "code",
   "execution_count": 10,
   "id": "ad69ed89-d368-4485-975f-e923756ae05c",
   "metadata": {},
   "outputs": [
    {
     "name": "stdout",
     "output_type": "stream",
     "text": [
      "3\n",
      "2\n",
      "12345\n"
     ]
    }
   ],
   "source": [
    "sku=\"SKU-12345-XYZ\"\n",
    "f_dash= sku.find(\"-\")\n",
    "print(f_dash)\n",
    "count_dash=sku.count(\"-\")\n",
    "print(count_dash)\n",
    "num=sku.replace(\"SKU-\",\"\").replace(\"-XYZ\",\"\")\n",
    "print(num)"
   ]
  },
  {
   "cell_type": "markdown",
   "id": "0d504f74-c0d6-4890-9580-7890bc1dcb43",
   "metadata": {},
   "source": [
    "3- Convert a string to Title Case.\n",
    "\n",
    "text_1 = \"hello world\"\n"
   ]
  },
  {
   "cell_type": "code",
   "execution_count": 11,
   "id": "0e1ac571-bb39-4750-8085-d3ca23a9f222",
   "metadata": {},
   "outputs": [
    {
     "data": {
      "text/plain": [
       "'Hello World'"
      ]
     },
     "execution_count": 11,
     "metadata": {},
     "output_type": "execute_result"
    }
   ],
   "source": [
    "text_1 = \"hello world\"\n",
    "text_1.title()"
   ]
  },
  {
   "cell_type": "markdown",
   "id": "69a00670-3bd2-4380-bfd6-46f87255ef19",
   "metadata": {},
   "source": [
    "4- Capitalize the first letter of a string.\n",
    "\n",
    "text_2 = \"python programming\""
   ]
  },
  {
   "cell_type": "code",
   "execution_count": 13,
   "id": "64433544-d422-43c0-bf4f-272748f3609f",
   "metadata": {},
   "outputs": [
    {
     "data": {
      "text/plain": [
       "'Python programming'"
      ]
     },
     "execution_count": 13,
     "metadata": {},
     "output_type": "execute_result"
    }
   ],
   "source": [
    "text_2 = \"python programming\"\n",
    "text_2.capitalize()\n"
   ]
  },
  {
   "cell_type": "markdown",
   "id": "24a9ded0-9b42-4107-bdd3-da5af3dc1414",
   "metadata": {},
   "source": [
    "5- Given the string below, write Python code to:\n",
    "\n",
    "Convert the string so that each word starts with a capital letter\n",
    "\n",
    "Then swap the case of every letter in the resulting string\n",
    "\n",
    "Print the final result.\n",
    "\n",
    "text1 = \"learning PYTHON is AWESOME\""
   ]
  },
  {
   "cell_type": "code",
   "execution_count": 26,
   "id": "f7ee2707-9f99-45bd-8ad9-1ecee20b1556",
   "metadata": {},
   "outputs": [
    {
     "name": "stdout",
     "output_type": "stream",
     "text": [
      "Learning Python Is Awesome\n",
      "learning PYTHON is AWESOME\n"
     ]
    }
   ],
   "source": [
    "text1 = \"learning python is awesome\"\n",
    "swp=text1.title()\n",
    "print(swp)\n",
    "swp1=text1.lower()\n",
    "#print(swp1)\n",
    "swp1 = swp1.replace(\"python\", \"PYTHON\").replace(\"awesome\", \"AWESOME\")\n",
    "print(swp1)"
   ]
  },
  {
   "cell_type": "markdown",
   "id": "99163be0-8b38-4d39-a4d6-8099e6a6eee7",
   "metadata": {},
   "source": [
    "6- \n",
    "\n",
    "Write Python code to check and print whether the string satisfies the following:\n",
    "\n",
    "Is alphanumeric?\n",
    "\n",
    "Is alphabetic only?\n",
    "\n",
    "text2 = \"HelloWorld123\"\n"
   ]
  },
  {
   "cell_type": "code",
   "execution_count": 37,
   "id": "76749663-5e98-402d-afb6-334dc468b51e",
   "metadata": {},
   "outputs": [
    {
     "name": "stdout",
     "output_type": "stream",
     "text": [
      "False\n",
      "False\n",
      "String is Alphanumeric\n"
     ]
    }
   ],
   "source": [
    "text2 = \"HelloWorld123\"\n",
    "a=text2.isalnum()\n",
    "b=text2.isdigit()\n",
    "c=text2.isalpha()\n",
    "print(b)\n",
    "print(c)\n",
    "if a==True:\n",
    "    print(\"String is Alphanumeric\")\n",
    "else:\n",
    "    print(\"String is not Alphanumeric\")"
   ]
  },
  {
   "cell_type": "markdown",
   "id": "86df8b45-2f46-4da8-b56b-e8967309738d",
   "metadata": {},
   "source": [
    "7- \n",
    "\n",
    "Write Python code to check and print whether the string satisfies the following:\n",
    "\n",
    "Is the string made up of digits only?\n",
    "\n",
    "Is the string all lowercase?\n",
    "\n",
    "text3 = \"helloworld\""
   ]
  },
  {
   "cell_type": "code",
   "execution_count": 38,
   "id": "cb7c37ef-e3f1-407d-ab78-3cb86eec96d0",
   "metadata": {},
   "outputs": [
    {
     "name": "stdout",
     "output_type": "stream",
     "text": [
      "String is not Digits only\n",
      "String is all lower case\n"
     ]
    }
   ],
   "source": [
    "text3 = \"helloworld\"\n",
    "check_dig=text3.isdigit()\n",
    "check_case= text3.islower()\n",
    "\n",
    "if check_dig==True:\n",
    "    print(\"String is Digits only\")\n",
    "else:\n",
    "    print(\"String is not Digits only\")\n",
    "\n",
    "if check_case==True:\n",
    "    print(\"String is all lower case\")\n",
    "else:\n",
    "    print(\"String is not all lower case\")"
   ]
  },
  {
   "cell_type": "markdown",
   "id": "d5abaffa-dab0-4c62-94a6-7639e02d4753",
   "metadata": {},
   "source": [
    "8-\n",
    "\n",
    "Write Python code to check and print whether the string satisfies the following:\n",
    "\n",
    "Is the string all uppercase?\n",
    "\n",
    "Is the string titlecased?\n",
    "\n",
    "text4 = 'Hi We Are Learning Python'"
   ]
  },
  {
   "cell_type": "code",
   "execution_count": 39,
   "id": "3a24fcc2-028d-44aa-b1f2-d2704606749a",
   "metadata": {},
   "outputs": [
    {
     "name": "stdout",
     "output_type": "stream",
     "text": [
      "String is Title case\n",
      "String is not all upper case\n"
     ]
    }
   ],
   "source": [
    "text3 = 'Hi We Are Learning Python'\n",
    "check_title=text3.istitle()\n",
    "check_case= text3.isupper()\n",
    "\n",
    "if check_title==True:\n",
    "    print(\"String is Title case\")\n",
    "else:\n",
    "    print(\"String is not Title case\")\n",
    "\n",
    "if check_case==True:\n",
    "    print(\"String is all upper case\")\n",
    "else:\n",
    "    print(\"String is not all upper case\")"
   ]
  },
  {
   "cell_type": "markdown",
   "id": "005214b5-3e90-488d-9f1a-19fa65b5c830",
   "metadata": {},
   "source": [
    "9- \n",
    "\n",
    "Write Python code to check and print whether the string:\n",
    "\n",
    "Starts with \"data\"\n",
    "\n",
    "Ends with \".csv\"\n",
    "\n",
    "text5 = \"data_report_2023.csv\"\n"
   ]
  },
  {
   "cell_type": "code",
   "execution_count": 40,
   "id": "9a44b4d6-6e7b-4ea3-bb49-84b2bb77fc13",
   "metadata": {},
   "outputs": [
    {
     "name": "stdout",
     "output_type": "stream",
     "text": [
      "The string starts with 'data'\n",
      "The string ends with '.csv'\n"
     ]
    }
   ],
   "source": [
    "text5 = \"data_report_2023.csv\"\n",
    "a=text5.startswith(\"data\")\n",
    "b=text5.endswith(\".csv\")\n",
    "if a==True:\n",
    "    print(\"The string starts with 'data'\")\n",
    "else:\n",
    "    print(\"The string does not start with 'data'\")\n",
    "\n",
    "if b==True:\n",
    "    print(\"The string ends with '.csv'\")\n",
    "else:\n",
    "    print(\"The string does not end with '.csv'\")\n"
   ]
  },
  {
   "cell_type": "markdown",
   "id": "80bc03e1-c9aa-4c73-ab02-8065a93f0ce5",
   "metadata": {},
   "source": [
    "10-\n",
    "\n",
    "Write Python code to:\n",
    "\n",
    "Count how many times \"banana\" appears in the string.\n",
    "\n",
    "fruit = \"banana bandana banana\"\n"
   ]
  },
  {
   "cell_type": "code",
   "execution_count": 41,
   "id": "13193e78-920a-45db-9c98-c89e8c270ecd",
   "metadata": {},
   "outputs": [
    {
     "data": {
      "text/plain": [
       "2"
      ]
     },
     "execution_count": 41,
     "metadata": {},
     "output_type": "execute_result"
    }
   ],
   "source": [
    "fruit = \"banana bandana banana\"\n",
    "fruit.count(\"banana\")"
   ]
  },
  {
   "cell_type": "code",
   "execution_count": null,
   "id": "253678e9-5c07-44fc-8bd5-70714165e991",
   "metadata": {},
   "outputs": [],
   "source": []
  }
 ],
 "metadata": {
  "kernelspec": {
   "display_name": "Python [conda env:base] *",
   "language": "python",
   "name": "conda-base-py"
  },
  "language_info": {
   "codemirror_mode": {
    "name": "ipython",
    "version": 3
   },
   "file_extension": ".py",
   "mimetype": "text/x-python",
   "name": "python",
   "nbconvert_exporter": "python",
   "pygments_lexer": "ipython3",
   "version": "3.13.5"
  }
 },
 "nbformat": 4,
 "nbformat_minor": 5
}
