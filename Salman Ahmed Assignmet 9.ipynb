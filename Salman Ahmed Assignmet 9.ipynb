{
 "cells": [
  {
   "cell_type": "markdown",
   "id": "2bf6c77b-bc8e-45a8-a853-401f0356badf",
   "metadata": {},
   "source": [
    "Q1:\n",
    "Write a Python program that:\n",
    "\n",
    "Has a balance of 1000.\n",
    "\n",
    "Asks the user for a withdrawal amount.\n",
    "\n",
    "Checks for these errors:\n",
    "\n",
    "Non-numeric input → print \"Please enter a valid number.\"\n",
    "\n",
    "Amount ≤ 0 → print \"Amount must be more than zero.\"\n",
    "\n",
    "Amount > balance → print \"Insufficient balance.\"\n",
    "\n",
    "If valid, deducts amount and shows remaining balance.\n",
    "\n",
    "Always prints \"Thank you for using the ATM.\"\n",
    "\n",
    "Expected Output:\n",
    "\n",
    "- Enter amount to withdraw: 1500\n",
    "\n",
    "  Insufficient balance.\n",
    "\n",
    "  Thank you for using the ATM.\n",
    "\n",
    "\n",
    "- Enter amount to withdraw:  0\n",
    "\n",
    "  Amount must be more than zero.\n",
    "\n",
    "  Thank you for using the ATM.\n",
    "\n",
    "\n",
    "- Enter amount to withdraw:  K\n",
    "\n",
    "\n",
    "  Please enter a valid number.\n",
    "\n",
    "  Thank you for using the ATM."
   ]
  },
  {
   "cell_type": "code",
   "execution_count": 1,
   "id": "39150890-033d-4d08-a07d-6bbc4a7944f5",
   "metadata": {},
   "outputs": [
    {
     "name": "stdin",
     "output_type": "stream",
     "text": [
      "Enter amount to withdraw:  100\n"
     ]
    },
    {
     "name": "stdout",
     "output_type": "stream",
     "text": [
      "\n",
      "Remaining balance: 900.00\n",
      "\n",
      "Thank you for using the ATM.\n"
     ]
    }
   ],
   "source": [
    "balance = 1000.0\n",
    "\n",
    "try:\n",
    "    user_input = input(\"Enter amount to withdraw: \")\n",
    "    amount = float(user_input)\n",
    "except ValueError:\n",
    "    print(\"\\nPlease enter a valid number.\")\n",
    "else:\n",
    "    if amount <= 0:\n",
    "        print(\"\\nAmount must be more than zero.\")\n",
    "    elif amount > balance:\n",
    "        print(\"\\nInsufficient balance.\")\n",
    "    else:\n",
    "        balance -= amount\n",
    "        print(f\"\\nRemaining balance: {balance:.2f}\")\n",
    "finally:\n",
    "    print(\"\\nThank you for using the ATM.\")\n"
   ]
  },
  {
   "cell_type": "markdown",
   "id": "e7ca4d3f-3f2f-4b01-bc4c-28919084207c",
   "metadata": {},
   "source": [
    "Q2\n",
    "\n",
    "Write a Python program that:\n",
    "\n",
    "Has 5 seats available (available_seats = 5).\n",
    "\n",
    "Asks the user how many tickets they want to book.\n",
    "\n",
    "Checks for these cases:\n",
    "\n",
    "Non-numeric input → print \"Please enter a valid number.\"\n",
    "\n",
    "Tickets ≤ 0 → print \"You must book at least 1 ticket.\"\n",
    "\n",
    "Tickets more than available seats → print \"Not enough seats available.\"\n",
    "\n",
    "If valid, confirms the booking by printing how many tickets were booked.\n",
    "\n",
    "Always prints \"Thank you for booking with us.\" at the end.\n",
    "\n",
    "Expected Output:\n",
    "\n",
    "- How many tickets do you want to book? 3\n",
    "\n",
    "  3 ticket(s) booked successfully.\n",
    "\n",
    "  Thank you for booking with us.\n",
    "\n",
    "- How many tickets do you want to book? 0\n",
    "\n",
    "\n",
    "  You must book at least 1 ticket.\n",
    "\n",
    "  Thank you for booking with us.\n",
    "\n",
    "- How many tickets do you want to book? 7\n",
    "\n",
    "  Not enough seats available.\n",
    "\n",
    "  Thank you for booking with us.\n",
    "\n",
    "- How many tickets do you want to book? five\n",
    "\n",
    "  Please enter a valid number.\n",
    "\n",
    "  Thank you for booking with us.\n",
    "\n",
    "\n",
    "\n"
   ]
  },
  {
   "cell_type": "code",
   "execution_count": 2,
   "id": "e62960a2-cdcb-43cb-b1fd-4da9cf1dadd3",
   "metadata": {},
   "outputs": [
    {
     "name": "stdin",
     "output_type": "stream",
     "text": [
      "How many tickets do you want to book?  3\n"
     ]
    },
    {
     "name": "stdout",
     "output_type": "stream",
     "text": [
      "\n",
      "3 ticket(s) booked successfully.\n",
      "\n",
      "Thank you for booking with us.\n"
     ]
    }
   ],
   "source": [
    "available_seats = 5\n",
    "\n",
    "try:\n",
    "    user_input = input(\"How many tickets do you want to book? \")\n",
    "    tickets = int(user_input)\n",
    "except ValueError:\n",
    "    print(\"\\nPlease enter a valid number.\")\n",
    "else:\n",
    "    if tickets <= 0:\n",
    "        print(\"\\nYou must book at least 1 ticket.\")\n",
    "    elif tickets > available_seats:\n",
    "        print(\"\\nNot enough seats available.\")\n",
    "    else:\n",
    "        available_seats -= tickets\n",
    "        print(f\"\\n{tickets} ticket(s) booked successfully.\")\n",
    "finally:\n",
    "    print(\"\\nThank you for booking with us.\")\n"
   ]
  },
  {
   "cell_type": "markdown",
   "id": "5dc01c7c-2a5b-4a18-bd8f-4b80f71b625b",
   "metadata": {},
   "source": [
    "Q3:\n",
    "\n",
    "Write a Python program that:\n",
    "\n",
    "Asks the user how many items they want to buy.\n",
    "\n",
    "If the user enters a non-number, print: \"Please enter a valid quantity.\"\n",
    "\n",
    "If the user enters a number less than 1, print: \"You must buy at least one item.\"\n",
    "\n",
    "If the input is valid, print: \"You added {quantity} item(s) to your cart.\"\n",
    "\n",
    "Expected Output:\n",
    "\n",
    "- Enter the number of items you want to buy: 3\n",
    "\n",
    "  You added 3 item(s) to your cart.\n",
    "\n",
    "- Enter the number of items you want to buy: 0\n",
    "\n",
    "    You must buy at least one item.\n",
    "\n",
    "- Enter the number of items you want to buy: five\n",
    "\n",
    "  Please enter a valid quantity.\n",
    "\n"
   ]
  },
  {
   "cell_type": "code",
   "execution_count": 3,
   "id": "a92e0909-a8ec-43cd-9003-756d731173df",
   "metadata": {},
   "outputs": [
    {
     "name": "stdin",
     "output_type": "stream",
     "text": [
      "Enter the number of items you want to buy:  5\n"
     ]
    },
    {
     "name": "stdout",
     "output_type": "stream",
     "text": [
      "\n",
      "You added 5 item(s) to your cart.\n"
     ]
    }
   ],
   "source": [
    "try:\n",
    "    user_input = input(\"Enter the number of items you want to buy: \")\n",
    "    quantity = int(user_input)\n",
    "except ValueError:\n",
    "    print(\"\\nPlease enter a valid quantity.\")\n",
    "else:\n",
    "    if quantity < 1:\n",
    "        print(\"\\nYou must buy at least one item.\")\n",
    "    else:\n",
    "        print(f\"\\nYou added {quantity} item(s) to your cart.\")\n",
    "\n"
   ]
  },
  {
   "cell_type": "markdown",
   "id": "3ac27741-aec9-45ae-83c5-8648e53245cd",
   "metadata": {},
   "source": [
    "Q4:\n",
    "Write a Python program that:\n",
    "\n",
    "Asks the user to enter a number between 1 and 7.\n",
    "\n",
    "If the number is between 1 and 7, prints the corresponding day of the week (1 = Monday, 7 = Sunday).\n",
    "\n",
    "If the number is outside this range, prints: \"Please enter a number between 1 and 7.\"\n",
    "\n",
    "Handles invalid input (non-numbers) by printing: \"Please enter a valid number.\"\n",
    "\n",
    "Expected Output:\n",
    "\n",
    "- Enter a day number (1-7): 3\n",
    "\n",
    "  Day is Wednesday\n",
    "\n",
    "- Enter a day number (1-7): 9\n",
    "\n",
    "    Please enter a number between 1 and 7.\n",
    "\n",
    "- Enter a day number (1-7): five\n",
    "\n",
    "  Please enter a valid number.\n",
    "\n",
    "\n"
   ]
  },
  {
   "cell_type": "code",
   "execution_count": 4,
   "id": "e6ca2087-ee2c-4bb9-9855-61fef27c4a4e",
   "metadata": {},
   "outputs": [
    {
     "name": "stdin",
     "output_type": "stream",
     "text": [
      "Enter a day number (1-7):  4\n"
     ]
    },
    {
     "name": "stdout",
     "output_type": "stream",
     "text": [
      "\n",
      "Day is Thursday\n"
     ]
    }
   ],
   "source": [
    "days = {\n",
    "    1: \"Monday\",\n",
    "    2: \"Tuesday\",\n",
    "    3: \"Wednesday\",\n",
    "    4: \"Thursday\",\n",
    "    5: \"Friday\",\n",
    "    6: \"Saturday\",\n",
    "    7: \"Sunday\"\n",
    "}\n",
    "\n",
    "try:\n",
    "    user_input = input(\"Enter a day number (1-7): \")\n",
    "    day_num = int(user_input)\n",
    "except ValueError:\n",
    "    print(\"\\nPlease enter a valid number.\")\n",
    "else:\n",
    "    if 1 <= day_num <= 7:\n",
    "        print(f\"\\nDay is {days[day_num]}\")\n",
    "    else:\n",
    "        print(\"\\nPlease enter a number between 1 and 7.\")\n"
   ]
  },
  {
   "cell_type": "markdown",
   "id": "ae60a0eb-b305-425f-b90e-808005f8cefb",
   "metadata": {},
   "source": [
    "Q5:\n",
    "\n",
    "Write a Python program that:\n",
    "\n",
    "Asks the user how many days late they are returning a book.\n",
    "\n",
    "Calculates a fine: $0.50 per day late.\n",
    "\n",
    "If the user enters a negative number, print: \"Days late cannot be negative.\"\n",
    "\n",
    "If the input is invalid (not a number), print: \"Please enter a valid number.\"\n",
    "\n",
    "Otherwise, print the total fine.\n",
    "\n",
    "Expected Output:\n",
    "\n",
    "- Enter the number of days late: 4\n",
    "\n",
    "  Total fine: $2.00\n",
    "\n",
    "- Enter the number of days late: 0\n",
    "\n",
    "  Total fine: $0.00\n",
    "\n",
    "- Enter the number of days late: -3\n",
    "\n",
    "    Days late cannot be negative.\n",
    "\n",
    "- Enter the number of days late: five\n",
    "\n",
    "\n",
    "  Please enter a valid number.\n",
    "\n",
    "\n",
    "\n"
   ]
  },
  {
   "cell_type": "code",
   "execution_count": 5,
   "id": "2ba73c71-7c18-4075-83df-e5bc677042df",
   "metadata": {},
   "outputs": [
    {
     "name": "stdin",
     "output_type": "stream",
     "text": [
      "Enter the number of days late:  13\n"
     ]
    },
    {
     "name": "stdout",
     "output_type": "stream",
     "text": [
      "\n",
      "Total fine: $6.50\n"
     ]
    }
   ],
   "source": [
    "try:\n",
    "    user_input = input(\"Enter the number of days late: \")\n",
    "    days_late = int(user_input)\n",
    "except ValueError:\n",
    "    print(\"\\nPlease enter a valid number.\")\n",
    "else:\n",
    "    if days_late < 0:\n",
    "        print(\"\\nDays late cannot be negative.\")\n",
    "    else:\n",
    "        fine = days_late * 0.50\n",
    "        print(f\"\\nTotal fine: ${fine:.2f}\")\n",
    "\n"
   ]
  },
  {
   "cell_type": "markdown",
   "id": "0c62f22a-9cd0-4092-81d7-f9a1dfd27478",
   "metadata": {},
   "source": [
    "Q6:\n",
    "Define a class named Book that has the following attributes:\n",
    "\n",
    "title (string)\n",
    "\n",
    "author (string)\n",
    "\n",
    "year (integer)\n",
    "\n",
    "Write a constructor (__init__) that initializes these attributes when a Book object is created.\n",
    "\n",
    "Then, create an object of the Book class with sample data (e.g., title = \"To Kill a Mockingbird\", author = \"Harper Lee\", year = 1960).\n",
    "\n",
    "Finally, print the values of the object's attributes (title, author, and year\n",
    "\n",
    "Expected Output:\n",
    "\n",
    "To Kill a Mockingbird\n",
    "\n",
    "Harper Lee\n",
    "\n",
    "1960\n"
   ]
  },
  {
   "cell_type": "code",
   "execution_count": 6,
   "id": "e2909397-6c73-4138-a46c-f2d0a135243b",
   "metadata": {},
   "outputs": [
    {
     "name": "stdout",
     "output_type": "stream",
     "text": [
      "To Kill a Mockingbird\n",
      "Harper Lee\n",
      "1960\n"
     ]
    }
   ],
   "source": [
    "class Book:\n",
    "    def __init__(self, title: str, author: str, year: int):\n",
    "        self.title = title\n",
    "        self.author = author\n",
    "        self.year = year\n",
    "\n",
    "# Create an instance with sample data\n",
    "book = Book(\"To Kill a Mockingbird\", \"Harper Lee\", 1960)\n",
    "\n",
    "# Print the attributes\n",
    "print(book.title)\n",
    "print(book.author)\n",
    "print(book.year)\n"
   ]
  },
  {
   "cell_type": "markdown",
   "id": "865ebbd2-6635-46b3-8dd5-67f3939287e6",
   "metadata": {},
   "source": [
    "Q7:\n",
    "\n",
    "Define a class named Book with the following:\n",
    "\n",
    "A constructor (__init__) that initializes three attributes: title, author, and year.\n",
    "\n",
    "A method display_info() that prints the book details in the format:\n",
    "\n",
    "'{title}' by {author}, published in {year}.\n",
    "\n",
    "A method is_classic() that simply prints:\n",
    "\n",
    "\"This is a book.\"\n",
    "\n",
    "Create an object of the Book class using this data:\n",
    "\n",
    "Title: \"To Kill a Mockingbird\"\n",
    "\n",
    "Author: \"Harper Lee\"\n",
    "\n",
    "Year: 1960\n",
    "\n",
    "Call both methods on the object.\n",
    "\n",
    "Expected Output:\n",
    "\n",
    "'To Kill a Mockingbird' by Harper Lee, published in 1960.\n",
    "\n",
    "This is a book.\n",
    "\n"
   ]
  },
  {
   "cell_type": "code",
   "execution_count": 7,
   "id": "396eafe5-3e4b-4ce5-8d8c-62d01677ce82",
   "metadata": {},
   "outputs": [
    {
     "name": "stdout",
     "output_type": "stream",
     "text": [
      "'To Kill a Mockingbird' by Harper Lee, published in 1960.\n",
      "This is a book.\n"
     ]
    }
   ],
   "source": [
    "class Book:\n",
    "    def __init__(self, title: str, author: str, year: int):\n",
    "        self.title = title\n",
    "        self.author = author\n",
    "        self.year = year\n",
    "\n",
    "    def display_info(self):\n",
    "        print(f\"'{self.title}' by {self.author}, published in {self.year}.\")\n",
    "\n",
    "    def is_classic(self):\n",
    "        print(\"This is a book.\")\n",
    "\n",
    "# Create the object\n",
    "book = Book(\"To Kill a Mockingbird\", \"Harper Lee\", 1960)\n",
    "\n",
    "# Call the methods\n",
    "book.display_info()\n",
    "book.is_classic()\n"
   ]
  },
  {
   "cell_type": "markdown",
   "id": "aa6ad4bb-1c4c-4765-b1e0-98068f7c89b8",
   "metadata": {},
   "source": [
    "Q8:\n",
    "\n",
    "Define a class named Student that has the following:\n",
    "\n",
    "Attributes: name, grade, and age.\n",
    "\n",
    "A method introduce() that prints:\n",
    "\n",
    "\"My name is {name}, I am {age} years old.\"\n",
    "\n",
    "A method show_grade() that prints:\n",
    "\n",
    "\"My grade is {grade}.\"\n",
    "\n",
    "Create an object of the Student class with sample data (e.g., \"Alice\", \"A\", 16), and call both methods on the object.\n",
    "\n",
    "Expected Output:\n",
    "\n",
    "My name is Alice, I am 16 years old.\n",
    "\n",
    "My grade is A.\n"
   ]
  },
  {
   "cell_type": "code",
   "execution_count": 8,
   "id": "837e9d46-1dc0-4ebc-9df1-1eda246e6390",
   "metadata": {},
   "outputs": [
    {
     "name": "stdout",
     "output_type": "stream",
     "text": [
      "My name is Alice, I am 16 years old.\n",
      "My grade is A.\n"
     ]
    }
   ],
   "source": [
    "class Student:\n",
    "    def __init__(self, name: str, grade: str, age: int):\n",
    "        self.name = name\n",
    "        self.grade = grade\n",
    "        self.age = age\n",
    "\n",
    "    def introduce(self):\n",
    "        print(f\"My name is {self.name}, I am {self.age} years old.\")\n",
    "\n",
    "    def show_grade(self):\n",
    "        print(f\"My grade is {self.grade}.\")\n",
    "\n",
    "# Create an object and call the methods\n",
    "student = Student(\"Alice\", \"A\", 16)\n",
    "student.introduce()\n",
    "student.show_grade()\n"
   ]
  },
  {
   "cell_type": "markdown",
   "id": "525dd92f-d478-42fe-b48f-705262d24ee3",
   "metadata": {},
   "source": [
    "Q9:\n",
    "\n",
    "Define a class named Light with two methods:\n",
    "\n",
    "turn_on() — prints: \"The light is now ON.\"\n",
    "\n",
    "check_status() — prints: \"The light is bright and working.\"\n",
    "\n",
    "Create an object of the Light class and call both methods.\n",
    "\n",
    "Expected Output:\n",
    "\n",
    "The light is now ON.\n",
    "\n",
    "The light is bright and working."
   ]
  },
  {
   "cell_type": "code",
   "execution_count": 9,
   "id": "d6553909-8a98-49b1-8f01-889d293d47a5",
   "metadata": {},
   "outputs": [
    {
     "name": "stdout",
     "output_type": "stream",
     "text": [
      "The light is now ON.\n",
      "The light is bright and working.\n"
     ]
    }
   ],
   "source": [
    "class Light:\n",
    "    def turn_on(self):\n",
    "        print(\"The light is now ON.\")\n",
    "\n",
    "    def check_status(self):\n",
    "        print(\"The light is bright and working.\")\n",
    "\n",
    "# Create an object and call the methods\n",
    "lamp = Light()\n",
    "lamp.turn_on()\n",
    "lamp.check_status()\n"
   ]
  },
  {
   "cell_type": "markdown",
   "id": "229582cf-8c57-44e9-89e5-ab363c727f0d",
   "metadata": {},
   "source": [
    "Q10:\n",
    "\n",
    "available_slots = [101, 102, 103, 104, 105]\n",
    "\n",
    "reserved =  [106, 107, 108, 109, 110]\n",
    "\n",
    "You manage a parking lot with two lists:\n",
    "\n",
    "available_slots — parking slots that are free and can be reserved.\n",
    "\n",
    "reserved — parking slots that are already taken.\n",
    "\n",
    "Write a program that:\n",
    "\n",
    "Asks the user to enter a parking slot number they want to reserve.\n",
    "\n",
    "Checks the slot number:\n",
    "\n",
    "If the slot is in available_slots, confirm the reservation by printing:\n",
    "\n",
    "\"Slot {slot} is reserved for you.\"\n",
    "\n",
    "If the slot is in reserved, print:\n",
    "\n",
    "\"Slot {slot} is already reserved by someone else.\"\n",
    "\n",
    "If the slot is not in either list, print:\n",
    "\n",
    "\"Slot {slot} does not exist.\"\n",
    "\n",
    "Handles invalid input (non-integer) with an error message:\n",
    "\n",
    "\"Invalid input. Please enter a valid slot number.\"\n",
    "\n",
    "Expected Output:\n",
    "\n",
    "- Enter the parking slot number you want to reserve: 103\n",
    "\n",
    "    Slot 103 is reserved for you.\n",
    "\n",
    "- Enter the parking slot number you want to reserve: 107\n",
    "\n",
    "    Slot 107 is already reserved by someone else.\n",
    "\n",
    "- Enter the parking slot number you want to reserve: 999\n",
    "\n",
    "    Slot 999 does not exist.\n",
    "\n",
    "- Enter the parking slot number you want to reserve: abc\n",
    "\n",
    "  Invalid input. Please enter a valid slot number.\n"
   ]
  },
  {
   "cell_type": "code",
   "execution_count": 10,
   "id": "ff9309f3-1f54-4b2f-b2cf-b1aebb076759",
   "metadata": {},
   "outputs": [
    {
     "name": "stdin",
     "output_type": "stream",
     "text": [
      "Enter the parking slot number you want to reserve:  105\n"
     ]
    },
    {
     "name": "stdout",
     "output_type": "stream",
     "text": [
      "\n",
      "Slot 105 is reserved for you.\n"
     ]
    }
   ],
   "source": [
    "available_slots = [101, 102, 103, 104, 105]\n",
    "reserved = [106, 107, 108, 109, 110]\n",
    "\n",
    "try:\n",
    "    user_input = input(\"Enter the parking slot number you want to reserve: \")\n",
    "    slot = int(user_input)\n",
    "except ValueError:\n",
    "    print(\"\\nInvalid input. Please enter a valid slot number.\")\n",
    "else:\n",
    "    if slot in available_slots:\n",
    "        print(f\"\\nSlot {slot} is reserved for you.\")\n",
    "    elif slot in reserved:\n",
    "        print(f\"\\nSlot {slot} is already reserved by someone else.\")\n",
    "    else:\n",
    "        print(f\"\\nSlot {slot} does not exist.\")\n"
   ]
  },
  {
   "cell_type": "code",
   "execution_count": null,
   "id": "a99e6173-631a-4c7e-ad31-04cba55339cf",
   "metadata": {},
   "outputs": [],
   "source": []
  },
  {
   "cell_type": "code",
   "execution_count": null,
   "id": "c69b098c-daec-4a97-90cb-cce904132cf2",
   "metadata": {},
   "outputs": [],
   "source": []
  },
  {
   "cell_type": "code",
   "execution_count": null,
   "id": "baaf38ea-efea-4b43-890a-a64ceeb4f538",
   "metadata": {},
   "outputs": [],
   "source": []
  },
  {
   "cell_type": "code",
   "execution_count": null,
   "id": "7b1ec6ab-191d-440d-bb7a-aa4f35466399",
   "metadata": {},
   "outputs": [],
   "source": []
  }
 ],
 "metadata": {
  "kernelspec": {
   "display_name": "Python [conda env:base] *",
   "language": "python",
   "name": "conda-base-py"
  },
  "language_info": {
   "codemirror_mode": {
    "name": "ipython",
    "version": 3
   },
   "file_extension": ".py",
   "mimetype": "text/x-python",
   "name": "python",
   "nbconvert_exporter": "python",
   "pygments_lexer": "ipython3",
   "version": "3.13.5"
  }
 },
 "nbformat": 4,
 "nbformat_minor": 5
}
