{
 "cells": [
  {
   "cell_type": "code",
   "execution_count": 1,
   "id": "969c5e6c-7e44-4b48-a783-95a82d8380cf",
   "metadata": {},
   "outputs": [
    {
     "name": "stdout",
     "output_type": "stream",
     "text": [
      "Wrote: student_data_with_grades.csv\n"
     ]
    }
   ],
   "source": [
    "import csv\n",
    "in_path = \"student data - student data.csv\"\n",
    "out_path = \"student_data_with_grades.csv\"\n",
    "\n",
    "with open(in_path, \"r\", newline=\"\", encoding=\"utf-8\") as fin:\n",
    "    reader = csv.DictReader(fin)\n",
    "    fieldnames = list(reader.fieldnames) + [\"Grade\"]\n",
    "    rows = []\n",
    "\n",
    "    for row in reader:\n",
    "        \n",
    "        s = str(row[\"Percentage\"]).strip()\n",
    "        if s.endswith(\"%\"):\n",
    "            s = s[:-1].strip()\n",
    "        s = s.replace(\",\", \".\")\n",
    "        p = float(s)\n",
    "\n",
    "       \n",
    "        if p >= 80:\n",
    "            grade = \"A\"\n",
    "        elif p >= 70:\n",
    "            grade = \"B\"\n",
    "        elif p >= 60:\n",
    "            grade = \"C\"\n",
    "        elif p >= 50:\n",
    "            grade = \"D\"\n",
    "        else:\n",
    "            grade = \"F\"\n",
    "\n",
    "        row[\"Grade\"] = grade\n",
    "        rows.append(row)\n",
    "\n",
    "with open(out_path, \"w\", newline=\"\", encoding=\"utf-8\") as fout:\n",
    "    writer = csv.DictWriter(fout, fieldnames=fieldnames)\n",
    "    writer.writeheader()\n",
    "    writer.writerows(rows)\n",
    "\n",
    "print(\"Wrote:\", out_path)\n"
   ]
  },
  {
   "cell_type": "code",
   "execution_count": 2,
   "id": "e5a4a51e-54d2-46ea-807a-8cb1cbccc685",
   "metadata": {},
   "outputs": [
    {
     "ename": "NameError",
     "evalue": "name 'student_data_with_grades' is not defined",
     "output_type": "error",
     "traceback": [
      "\u001b[1;31m---------------------------------------------------------------------------\u001b[0m",
      "\u001b[1;31mNameError\u001b[0m                                 Traceback (most recent call last)",
      "Cell \u001b[1;32mIn[2], line 1\u001b[0m\n\u001b[1;32m----> 1\u001b[0m \u001b[38;5;28mprint\u001b[39m(student_data_with_grades\u001b[38;5;241m.\u001b[39mcsv)\n",
      "\u001b[1;31mNameError\u001b[0m: name 'student_data_with_grades' is not defined"
     ]
    }
   ],
   "source": [
    "print(student_data_with_grades.csv)"
   ]
  },
  {
   "cell_type": "code",
   "execution_count": null,
   "id": "cd909a48-a722-4cee-871c-cc458bfca235",
   "metadata": {},
   "outputs": [],
   "source": []
  }
 ],
 "metadata": {
  "kernelspec": {
   "display_name": "Python [conda env:base] *",
   "language": "python",
   "name": "conda-base-py"
  },
  "language_info": {
   "codemirror_mode": {
    "name": "ipython",
    "version": 3
   },
   "file_extension": ".py",
   "mimetype": "text/x-python",
   "name": "python",
   "nbconvert_exporter": "python",
   "pygments_lexer": "ipython3",
   "version": "3.13.5"
  }
 },
 "nbformat": 4,
 "nbformat_minor": 5
}
